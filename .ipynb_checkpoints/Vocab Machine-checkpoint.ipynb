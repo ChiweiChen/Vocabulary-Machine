{
 "cells": [
  {
   "cell_type": "code",
   "execution_count": 2,
   "metadata": {},
   "outputs": [
    {
     "name": "stderr",
     "output_type": "stream",
     "text": [
      "c:\\users\\chiwe\\appdata\\local\\programs\\python\\python37-32\\lib\\site-packages\\ipykernel_launcher.py:10: DeprecationWarning: use options instead of chrome_options\n",
      "  # Remove the CWD from sys.path while we load stuff.\n"
     ]
    },
    {
     "name": "stdout",
     "output_type": "stream",
     "text": [
      "done\n"
     ]
    }
   ],
   "source": [
    "from selenium import webdriver\n",
    "from selenium.webdriver.chrome.options import Options\n",
    "from bs4 import BeautifulSoup, Tag, NavigableString\n",
    "import time\n",
    "import os\n",
    "from docx import Document\n",
    "options= Options()\n",
    "options.add_argument('--headless')\n",
    "options.add_argument('--disable-gpu')\n",
    "driver=webdriver.Chrome(os.getcwd()+\"/chromedriver\",chrome_options=options)\n",
    "import pymysql.cursors\n",
    "connection=pymysql.connect(host='localhost',\n",
    "user='root',\n",
    "password='27727302',\n",
    "db='example',\n",
    "charset='utf8mb4',\n",
    "cursorclass=pymysql.cursors.DictCursor)\n",
    "count=0\n",
    "document = Document()\n",
    "words=['awef','lipids','steroid']\n",
    "for word in words:\n",
    "    time.sleep(0.5)\n",
    "    driver.get('https://www.merriam-webster.com/dictionary/'+words[count])\n",
    "    \n",
    "    sourceCode=BeautifulSoup(driver.page_source,\"html.parser\")\n",
    "    if sourceCode.find_all(\"p\",\"missing-query\"):\n",
    "        paragraph=document.add_paragraph(str(count+1)+\". \"+words[count]+\"     \"+\"(missing)\")\n",
    "    else:\n",
    "        tense= sourceCode.find_all(\"span\",\"fl\")[0].text\n",
    "        paragraph=document.add_paragraph(str(count+1)+\". \"+words[count]+\"     \"+\"(\"+tense+\")\")\n",
    "        definition=sourceCode.find_all(\"div\",{\"id\":\"dictionary-entry-1\"})\n",
    "        sourceCode2=BeautifulSoup(str(definition),\"html.parser\")\n",
    "        meanings=sourceCode2.find_all(\"span\",\"dtText\")\n",
    "        meancount=0;\n",
    "        for meaning in meanings:\n",
    "            txt=meaning.text\n",
    "            if (meancount<=2):\n",
    "                paragraph=document.add_paragraph(\"- \"+txt.replace(\":\",\"\"))\n",
    "                meancount =meancount+1\n",
    "    \n",
    "         \n",
    "    count=count+1\n",
    "    \n",
    "        \n",
    "            \n",
    "            \n",
    "        #txt=\"\"\n",
    "        #if (isinstance(meaning,Tag)==True):\n",
    "            #txt=txt+meaning.text\n",
    "        #else:\n",
    "            #txt=txt+meanings\n",
    "        \n",
    "   \n",
    "    #table = document.add_table(rows=4, cols=4)\n",
    "    #table.style='TableGrid'\n",
    "    #cell=table.cell(0,1)\n",
    "    #cell.text='qwer'\n",
    "    #row=table.rows[2]\n",
    "    #row.cells[1].text='2,3'\n",
    "    \n",
    "    \n",
    "    #for meaning in meanings:\n",
    "        #txt=\"\"\n",
    "        #for content in meaning.contents:\n",
    "            #if (isinstance(content,Tag)==True):\n",
    "                #txt=txt+content.text\n",
    "            #else:\n",
    "                #txt=txt+content \n",
    "document.save('test.docx')   \n",
    "connection.close()\n",
    "print('done')"
   ]
  },
  {
   "cell_type": "code",
   "execution_count": null,
   "metadata": {},
   "outputs": [],
   "source": []
  },
  {
   "cell_type": "code",
   "execution_count": null,
   "metadata": {},
   "outputs": [],
   "source": []
  }
 ],
 "metadata": {
  "kernelspec": {
   "display_name": "Python 3",
   "language": "python",
   "name": "python3"
  },
  "language_info": {
   "codemirror_mode": {
    "name": "ipython",
    "version": 3
   },
   "file_extension": ".py",
   "mimetype": "text/x-python",
   "name": "python",
   "nbconvert_exporter": "python",
   "pygments_lexer": "ipython3",
   "version": "3.7.1"
  }
 },
 "nbformat": 4,
 "nbformat_minor": 2
}
