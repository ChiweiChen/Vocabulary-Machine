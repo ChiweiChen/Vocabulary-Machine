{
 "cells": [
  {
   "cell_type": "code",
   "execution_count": 20,
   "metadata": {},
   "outputs": [
    {
     "name": "stderr",
     "output_type": "stream",
     "text": [
      "c:\\users\\chiwe\\appdata\\local\\programs\\python\\python37-32\\lib\\site-packages\\ipykernel_launcher.py:10: DeprecationWarning: use options instead of chrome_options\n",
      "  # Remove the CWD from sys.path while we load stuff.\n"
     ]
    },
    {
     "name": "stdout",
     "output_type": "stream",
     "text": [
      ": the quality or state of being stupid: a stupid idea or act\n",
      "done\n"
     ]
    }
   ],
   "source": [
    "from selenium import webdriver\n",
    "from selenium.webdriver.chrome.options import Options\n",
    "from bs4 import BeautifulSoup, Tag, NavigableString\n",
    "import time\n",
    "import os\n",
    "from docx import Document\n",
    "options= Options()\n",
    "options.add_argument('--headless')\n",
    "options.add_argument('--disable-gpu')\n",
    "driver=webdriver.Chrome(os.getcwd()+\"/chromedriver\",chrome_options=options)\n",
    "import pymysql.cursors\n",
    "connection=pymysql.connect(host='localhost',\n",
    "user='root',\n",
    "password='27727302',\n",
    "db='example',\n",
    "charset='utf8mb4',\n",
    "cursorclass=pymysql.cursors.DictCursor)\n",
    "count=0\n",
    "document = Document()\n",
    "words=['stupidity']\n",
    "for word in words:\n",
    "    driver.get('https://www.merriam-webster.com/dictionary/'+words[count])\n",
    "    \n",
    "    time.sleep(0.5)\n",
    "    sourceCode=BeautifulSoup(driver.page_source,\"html.parser\")\n",
    "    definition=sourceCode.find_all(\"div\",{\"id\":\"dictionary-entry-1\"})\n",
    "    sourceCode2=BeautifulSoup(str(definition),\"html.parser\")\n",
    "    meanings=sourceCode2.find_all(\"span\",\"dtText\")\n",
    "    txt=\"\"\n",
    "    for meaning in meanings:\n",
    "        if (isinstance(meaning,Tag)==True):\n",
    "            txt=txt+meaning.text\n",
    "        else:\n",
    "            txt=txt+meaning \n",
    "    \n",
    "   \n",
    "print(txt)\n",
    "connection.close()\n",
    "print('done')    "
   ]
  },
  {
   "cell_type": "code",
   "execution_count": null,
   "metadata": {},
   "outputs": [],
   "source": []
  }
 ],
 "metadata": {
  "kernelspec": {
   "display_name": "Python 3",
   "language": "python",
   "name": "python3"
  },
  "language_info": {
   "codemirror_mode": {
    "name": "ipython",
    "version": 3
   },
   "file_extension": ".py",
   "mimetype": "text/x-python",
   "name": "python",
   "nbconvert_exporter": "python",
   "pygments_lexer": "ipython3",
   "version": "3.7.1"
  }
 },
 "nbformat": 4,
 "nbformat_minor": 2
}
