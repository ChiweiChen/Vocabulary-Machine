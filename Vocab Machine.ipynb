{
 "cells": [
  {
   "cell_type": "code",
   "execution_count": 1,
   "metadata": {},
   "outputs": [
    {
     "name": "stderr",
     "output_type": "stream",
     "text": [
      "c:\\users\\chiwe\\appdata\\local\\programs\\python\\python37-32\\lib\\site-packages\\ipykernel_launcher.py:9: DeprecationWarning: use options instead of chrome_options\n",
      "  if __name__ == '__main__':\n"
     ]
    },
    {
     "name": "stdout",
     "output_type": "stream",
     "text": [
      " slow of mind  obtuse\n",
      " the quality or state of being stupid\n"
     ]
    }
   ],
   "source": [
    "from selenium import webdriver\n",
    "from selenium.webdriver.chrome.options import Options\n",
    "from bs4 import BeautifulSoup, Tag, NavigableString\n",
    "import time\n",
    "import os\n",
    "options= Options()\n",
    "options.add_argument('--headless')\n",
    "options.add_argument('--disable-gpu')\n",
    "driver=webdriver.Chrome(os.getcwd()+\"/chromedriver\",chrome_options=options)\n",
    "import pymysql.cursors\n",
    "connection=pymysql.connect(host='localhost',\n",
    "user='root',\n",
    "password='27727302',\n",
    "db='example',\n",
    "charset='utf8mb4',\n",
    "cursorclass=pymysql.cursors.DictCursor)\n",
    "count=0\n",
    "words=['stupid','stupidity']\n",
    "for word in words:\n",
    "    driver.get('https://www.merriam-webster.com/dictionary/'+words[count])\n",
    "    count=count+1\n",
    "    time.sleep(0.5)\n",
    "    sourceCode=BeautifulSoup(driver.page_source,\"html.parser\")\n",
    "    definition=sourceCode.find_all(\"span\",\"dt\")\n",
    "    sourceCode2=BeautifulSoup(str(definition[0]),\"html.parser\")\n",
    "    meaning=sourceCode2.find_all(\"span\",\"dtText\")[0].text\n",
    "    \n",
    "    print(meaning.replace(\":\",\"\"))\n",
    "    #for meaning in meanings:\n",
    "        #txt=\"\"\n",
    "        #for content in meaning.contents:\n",
    "            #if (isinstance(content,Tag)==True):\n",
    "                #txt=txt+content.text\n",
    "            #else:\n",
    "                #txt=txt+content \n",
    "connection.close()"
   ]
  },
  {
   "cell_type": "code",
   "execution_count": null,
   "metadata": {},
   "outputs": [],
   "source": []
  },
  {
   "cell_type": "code",
   "execution_count": null,
   "metadata": {},
   "outputs": [],
   "source": []
  }
 ],
 "metadata": {
  "kernelspec": {
   "display_name": "Python 3",
   "language": "python",
   "name": "python3"
  },
  "language_info": {
   "codemirror_mode": {
    "name": "ipython",
    "version": 3
   },
   "file_extension": ".py",
   "mimetype": "text/x-python",
   "name": "python",
   "nbconvert_exporter": "python",
   "pygments_lexer": "ipython3",
   "version": "3.7.1"
  }
 },
 "nbformat": 4,
 "nbformat_minor": 2
}
