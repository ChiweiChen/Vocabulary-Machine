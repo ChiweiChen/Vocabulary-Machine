{
 "cells": [
  {
   "cell_type": "code",
   "execution_count": 8,
   "metadata": {},
   "outputs": [
    {
     "name": "stdout",
     "output_type": "stream",
     "text": [
      "test\n"
     ]
    }
   ],
   "source": [
    "from openpyxl import load_workbook\n",
    "\n",
    "wb=load_workbook(\"test.xlsx\")\n",
    "ws =wb.active\n",
    "ws['A1']=\"test\"\n",
    "ws.append(['word',' ','definition'])\n",
    "wb.save('test.xlsx')\n",
    "count=1\n",
    "print(ws['A'+str(count)].value)"
   ]
  },
  {
   "cell_type": "code",
   "execution_count": 11,
   "metadata": {},
   "outputs": [
    {
     "name": "stderr",
     "output_type": "stream",
     "text": [
      "c:\\users\\james\\appdata\\local\\programs\\python\\python37-32\\lib\\site-packages\\docx\\styles\\styles.py:139: UserWarning: style lookup by style_id is deprecated. Use style name as key instead.\n",
      "  return self._get_style_id_from_style(self[style_name], style_type)\n"
     ]
    }
   ],
   "source": [
    "from docx import Document\n",
    "\n",
    "document = Document()\n",
    "paragraph=document.add_paragraph('definition')\n",
    "table = document.add_table(rows=4, cols=4)\n",
    "table.style='TableGrid'\n",
    "cell=table.cell(0,1)\n",
    "cell.text='qwer'\n",
    "row=table.rows[2]\n",
    "row.cells[1].text='2,3'\n",
    "document.save('test.docx')"
   ]
  },
  {
   "cell_type": "code",
   "execution_count": null,
   "metadata": {},
   "outputs": [],
   "source": []
  }
 ],
 "metadata": {
  "kernelspec": {
   "display_name": "Python 3",
   "language": "python",
   "name": "python3"
  },
  "language_info": {
   "codemirror_mode": {
    "name": "ipython",
    "version": 3
   },
   "file_extension": ".py",
   "mimetype": "text/x-python",
   "name": "python",
   "nbconvert_exporter": "python",
   "pygments_lexer": "ipython3",
   "version": "3.7.0"
  }
 },
 "nbformat": 4,
 "nbformat_minor": 2
}
